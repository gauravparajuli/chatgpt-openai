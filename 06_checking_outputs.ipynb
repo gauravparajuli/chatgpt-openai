{
  "nbformat": 4,
  "nbformat_minor": 0,
  "metadata": {
    "colab": {
      "provenance": []
    },
    "kernelspec": {
      "name": "python3",
      "display_name": "Python 3"
    },
    "language_info": {
      "name": "python"
    }
  },
  "cells": [
    {
      "cell_type": "markdown",
      "source": [
        "# setup"
      ],
      "metadata": {
        "id": "LykxaC9sbNKo"
      }
    },
    {
      "cell_type": "code",
      "source": [
        "!pip install openai tiktoken -q"
      ],
      "metadata": {
        "id": "dHLMShh3bR10",
        "colab": {
          "base_uri": "https://localhost:8080/"
        },
        "outputId": "545dd5a8-e8da-4cf4-b5cf-2744e061f946"
      },
      "execution_count": 1,
      "outputs": [
        {
          "output_type": "stream",
          "name": "stdout",
          "text": [
            "\u001b[2K     \u001b[90m━━━━━━━━━━━━━━━━━━━━━━━━━━━━━━━━━━━━━━━━\u001b[0m \u001b[32m328.8/328.8 kB\u001b[0m \u001b[31m4.1 MB/s\u001b[0m eta \u001b[36m0:00:00\u001b[0m\n",
            "\u001b[2K     \u001b[90m━━━━━━━━━━━━━━━━━━━━━━━━━━━━━━━━━━━━━━━━\u001b[0m \u001b[32m1.1/1.1 MB\u001b[0m \u001b[31m12.0 MB/s\u001b[0m eta \u001b[36m0:00:00\u001b[0m\n",
            "\u001b[2K     \u001b[90m━━━━━━━━━━━━━━━━━━━━━━━━━━━━━━━━━━━━━━━━\u001b[0m \u001b[32m75.6/75.6 kB\u001b[0m \u001b[31m5.0 MB/s\u001b[0m eta \u001b[36m0:00:00\u001b[0m\n",
            "\u001b[2K     \u001b[90m━━━━━━━━━━━━━━━━━━━━━━━━━━━━━━━━━━━━━━━━\u001b[0m \u001b[32m77.9/77.9 kB\u001b[0m \u001b[31m6.9 MB/s\u001b[0m eta \u001b[36m0:00:00\u001b[0m\n",
            "\u001b[2K     \u001b[90m━━━━━━━━━━━━━━━━━━━━━━━━━━━━━━━━━━━━━━━━\u001b[0m \u001b[32m58.3/58.3 kB\u001b[0m \u001b[31m5.1 MB/s\u001b[0m eta \u001b[36m0:00:00\u001b[0m\n",
            "\u001b[?25h"
          ]
        }
      ]
    },
    {
      "cell_type": "code",
      "execution_count": 2,
      "metadata": {
        "id": "356UHG_abKKv"
      },
      "outputs": [],
      "source": [
        "import openai\n",
        "import tiktoken\n",
        "from google.colab import userdata\n",
        "\n",
        "api_key = userdata.get('OPENAI_API_KEY')\n",
        "\n",
        "client = openai.Client(api_key=api_key)"
      ]
    },
    {
      "cell_type": "markdown",
      "source": [
        "# helper function"
      ],
      "metadata": {
        "id": "gyevfXFnb3co"
      }
    },
    {
      "cell_type": "code",
      "source": [
        "def get_completion(prompt, model='gpt-3.5-turbo'):\n",
        "  messages = [{'role': 'user', 'content': prompt}]\n",
        "  response = client.chat.completions.create(\n",
        "      model=model,\n",
        "      messages=messages,\n",
        "      temperature=1\n",
        "  )\n",
        "\n",
        "  return response.choices[0].message.content"
      ],
      "metadata": {
        "id": "0p83RfSnbQoC"
      },
      "execution_count": 12,
      "outputs": []
    },
    {
      "cell_type": "markdown",
      "source": [
        "# helper function in chat format"
      ],
      "metadata": {
        "id": "RBtfFmt4eEZU"
      }
    },
    {
      "cell_type": "code",
      "source": [
        "def get_completion_from_messages(messages, model='gpt-3.5-turbo', temperature=0, max_tokens=500):\n",
        "  response = client.chat.completions.create(\n",
        "      model=model,\n",
        "      messages=messages,\n",
        "      temperature=temperature, # degree of randomness\n",
        "      max_tokens=max_tokens # max number of tokens that model can output\n",
        "  )\n",
        "\n",
        "  return response.choices[0].message.content"
      ],
      "metadata": {
        "id": "3rCDMk8od8px"
      },
      "execution_count": 13,
      "outputs": []
    },
    {
      "cell_type": "markdown",
      "source": [
        "# Moderating output for potentially harmful content"
      ],
      "metadata": {
        "id": "Xp1m8r_f0hQ1"
      }
    },
    {
      "cell_type": "code",
      "source": [
        "final_response_to_customer = f\"\"\"\n",
        "The SmartX ProPhone has a 6.1-inch display, 128GB storage, \\\n",
        "12MP dual camera, and 5G. The FotoSnap DSLR Camera \\\n",
        "has a 24.2MP sensor, 1080p video, 3-inch LCD, and \\\n",
        "interchangeable lenses. We have a variety of TVs, including \\\n",
        "the CineView 4K TV with a 55-inch display, 4K resolution, \\\n",
        "HDR, and smart TV features. We also have the SoundMax \\\n",
        "Home Theater system with 5.1 channel, 1000W output, wireless \\\n",
        "subwoofer, and Bluetooth. Do you have any specific questions \\\n",
        "about these products or any other products we offer?\n",
        "\"\"\"\n",
        "\n",
        "response = client.moderations.create(\n",
        "    input=final_response_to_customer\n",
        ")\n",
        "\n",
        "response"
      ],
      "metadata": {
        "id": "rexnjX2fxzkz",
        "colab": {
          "base_uri": "https://localhost:8080/"
        },
        "outputId": "73240bd0-0d7f-4fcf-cad9-2bb868eadf9d"
      },
      "execution_count": 3,
      "outputs": [
        {
          "output_type": "execute_result",
          "data": {
            "text/plain": [
              "ModerationCreateResponse(id='modr-9nFK4GFLxTAme31yrQmVMm8OkU5p3', model='text-moderation-007', results=[Moderation(categories=Categories(harassment=False, harassment_threatening=False, hate=False, hate_threatening=False, self_harm=False, self_harm_instructions=False, self_harm_intent=False, sexual=False, sexual_minors=False, violence=False, violence_graphic=False, self-harm=False, sexual/minors=False, hate/threatening=False, violence/graphic=False, self-harm/intent=False, self-harm/instructions=False, harassment/threatening=False), category_scores=CategoryScores(harassment=2.696166302484926e-05, harassment_threatening=9.87596831691917e-06, hate=7.229043148981873e-06, hate_threatening=2.0055701952514937e-06, self_harm=1.2812188288080506e-06, self_harm_instructions=3.672591049053153e-07, self_harm_intent=2.012526920225355e-06, sexual=0.00015211118443403393, sexual_minors=1.154503297584597e-05, violence=0.0002972284273710102, violence_graphic=1.5082588106452022e-05, self-harm=1.2812188288080506e-06, sexual/minors=1.154503297584597e-05, hate/threatening=2.0055701952514937e-06, violence/graphic=1.5082588106452022e-05, self-harm/intent=2.012526920225355e-06, self-harm/instructions=3.672591049053153e-07, harassment/threatening=9.87596831691917e-06), flagged=False)])"
            ]
          },
          "metadata": {},
          "execution_count": 3
        }
      ]
    },
    {
      "cell_type": "code",
      "source": [
        "moderation_output = response.results[0].flagged\n",
        "print(moderation_output)"
      ],
      "metadata": {
        "colab": {
          "base_uri": "https://localhost:8080/"
        },
        "id": "RPLCzHlB07Bo",
        "outputId": "317d27e8-f82e-4e52-8784-4253cb8ace43"
      },
      "execution_count": 7,
      "outputs": [
        {
          "output_type": "stream",
          "name": "stdout",
          "text": [
            "False\n"
          ]
        }
      ]
    },
    {
      "cell_type": "markdown",
      "source": [
        "## check if output is based on the product provided information"
      ],
      "metadata": {
        "id": "RSS42HNJ1Wyf"
      }
    },
    {
      "cell_type": "code",
      "source": [
        "system_message = f\"\"\"\n",
        "you are an assitant that evaluates whether \\\n",
        "customer service agent responses sufficiently \\\n",
        "answer customer questions, and also validates that \\\n",
        "all the facts the assistant cites from the product \\\n",
        "information are correct.\n",
        "\n",
        "the product information and user and customer \\\n",
        "service agent messages will be delimited by \\\n",
        "3 backticks, i.e. ```.\n",
        "\n",
        "Respond with a Y or N character, with no punctuation:\n",
        "Y - if the output sufficiently answers the question \\\n",
        "and the response correctly uses the product information\n",
        "N - otherwise\n",
        "\n",
        "Output a single letter only\n",
        "\"\"\"\n",
        "\n",
        "customer_message = f\"\"\"\n",
        "tell me about the smartx prophone and \\\n",
        "the fotosnap camera, the dslr one. \\\n",
        "Also tell me about your tvs.\n",
        "\"\"\"\n",
        "\n",
        "product_information = \"\"\"{ \"name\": \"SmartX ProPhone\", \"category\": \"Smartphones and Accessories\", \"brand\": \"SmartX\", \"model_number\": \"SX-PP10\", \"warranty\": \"1 year\", \"rating\": 4.6, \"features\": [ \"6.1-inch display\", \"128GB storage\", \"12MP dual camera\", \"5G\" ], \"description\": \"A powerful smartphone with advanced camera features.\", \"price\": 899.99 } { \"name\": \"FotoSnap DSLR Camera\", \"category\": \"Cameras and Camcorders\", \"brand\": \"FotoSnap\", \"model_number\": \"FS-DSLR200\", \"warranty\": \"1 year\", \"rating\": 4.7, \"features\": [ \"24.2MP sensor\", \"1080p video\", \"3-inch LCD\", \"Interchangeable lenses\" ], \"description\": \"Capture stunning photos and videos with this versatile DSLR camera.\", \"price\": 599.99 } { \"name\": \"CineView 4K TV\", \"category\": \"Televisions and Home Theater Systems\", \"brand\": \"CineView\", \"model_number\": \"CV-4K55\", \"warranty\": \"2 years\", \"rating\": 4.8, \"features\": [ \"55-inch display\", \"4K resolution\", \"HDR\", \"Smart TV\" ], \"description\": \"A stunning 4K TV with vibrant colors and smart features.\", \"price\": 599.99 } { \"name\": \"SoundMax Home Theater\", \"category\": \"Televisions and Home Theater Systems\", \"brand\": \"SoundMax\", \"model_number\": \"SM-HT100\", \"warranty\": \"1 year\", \"rating\": 4.4, \"features\": [ \"5.1 channel\", \"1000W output\", \"Wireless subwoofer\", \"Bluetooth\" ], \"description\": \"A powerful home theater system for an immersive audio experience.\", \"price\": 399.99 } { \"name\": \"CineView 8K TV\", \"category\": \"Televisions and Home Theater Systems\", \"brand\": \"CineView\", \"model_number\": \"CV-8K65\", \"warranty\": \"2 years\", \"rating\": 4.9, \"features\": [ \"65-inch display\", \"8K resolution\", \"HDR\", \"Smart TV\" ], \"description\": \"Experience the future of television with this stunning 8K TV.\", \"price\": 2999.99 } { \"name\": \"SoundMax Soundbar\", \"category\": \"Televisions and Home Theater Systems\", \"brand\": \"SoundMax\", \"model_number\": \"SM-SB50\", \"warranty\": \"1 year\", \"rating\": 4.3, \"features\": [ \"2.1 channel\", \"300W output\", \"Wireless subwoofer\", \"Bluetooth\" ], \"description\": \"Upgrade your TV's audio with this sleek and powerful soundbar.\", \"price\": 199.99 } { \"name\": \"CineView OLED TV\", \"category\": \"Televisions and Home Theater Systems\", \"brand\": \"CineView\", \"model_number\": \"CV-OLED55\", \"warranty\": \"2 years\", \"rating\": 4.7, \"features\": [ \"55-inch display\", \"4K resolution\", \"HDR\", \"Smart TV\" ], \"description\": \"Experience true blacks and vibrant colors with this OLED TV.\", \"price\": 1499.99 }\"\"\"\n",
        "\n",
        "q_a_pair = f\"\"\"\n",
        "customer message: ```{customer_message}```\n",
        "product_information: ```{product_information}```\n",
        "agent_response: ```{final_response_to_customer}```\n",
        "\n",
        "Does the response use the retrieved information correctly?\n",
        "Does the response sufficiently answer the question?\n",
        "\n",
        "Output Y or N\n",
        "\"\"\"\n",
        "\n",
        "messages = [\n",
        "    dict(role='system', content=system_message),\n",
        "    dict(role='user', content=q_a_pair)\n",
        "]\n",
        "\n",
        "response = get_completion_from_messages(messages)\n",
        "print(response)"
      ],
      "metadata": {
        "colab": {
          "base_uri": "https://localhost:8080/"
        },
        "id": "sWMxgMpy1Cps",
        "outputId": "dbbe93fb-3c4d-4aeb-8bc9-bb5e9e5e3c96"
      },
      "execution_count": 14,
      "outputs": [
        {
          "output_type": "stream",
          "name": "stdout",
          "text": [
            "Y\n"
          ]
        }
      ]
    },
    {
      "cell_type": "code",
      "source": [
        "another_response = \"life is like a box of chocolates\"\n",
        "q_a_pair = f\"\"\"\n",
        "Customer message: ```{customer_message}```\n",
        "Product information: ```{product_information}```\n",
        "Agent response: ```{another_response}```\n",
        "\n",
        "Does the response use the retrieved information correctly?\n",
        "Does the response sufficiently answer the question?\n",
        "\n",
        "Output Y or N\n",
        "\"\"\"\n",
        "messages = [\n",
        "    {'role': 'system', 'content': system_message},\n",
        "    {'role': 'user', 'content': q_a_pair}\n",
        "]\n",
        "\n",
        "response = get_completion_from_messages(messages)\n",
        "print(response)"
      ],
      "metadata": {
        "colab": {
          "base_uri": "https://localhost:8080/"
        },
        "id": "8JBN_gwN2d3Y",
        "outputId": "ebfd6cc7-3261-44e6-e492-628d8888220f"
      },
      "execution_count": 15,
      "outputs": [
        {
          "output_type": "stream",
          "name": "stdout",
          "text": [
            "N\n"
          ]
        }
      ]
    },
    {
      "cell_type": "code",
      "source": [],
      "metadata": {
        "id": "6HUAZn6V_Nrp"
      },
      "execution_count": null,
      "outputs": []
    }
  ]
}