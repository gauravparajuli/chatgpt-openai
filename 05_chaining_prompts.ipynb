{
  "nbformat": 4,
  "nbformat_minor": 0,
  "metadata": {
    "colab": {
      "provenance": []
    },
    "kernelspec": {
      "name": "python3",
      "display_name": "Python 3"
    },
    "language_info": {
      "name": "python"
    }
  },
  "cells": [
    {
      "cell_type": "markdown",
      "source": [
        "# setup"
      ],
      "metadata": {
        "id": "LykxaC9sbNKo"
      }
    },
    {
      "cell_type": "code",
      "source": [
        "!pip install openai tiktoken -q"
      ],
      "metadata": {
        "id": "dHLMShh3bR10",
        "colab": {
          "base_uri": "https://localhost:8080/"
        },
        "outputId": "fb8f939c-4046-4e54-e331-e4ab695b3df8"
      },
      "execution_count": 1,
      "outputs": [
        {
          "output_type": "stream",
          "name": "stdout",
          "text": [
            "\u001b[2K     \u001b[90m━━━━━━━━━━━━━━━━━━━━━━━━━━━━━━━━━━━━━━━━\u001b[0m \u001b[32m328.8/328.8 kB\u001b[0m \u001b[31m5.4 MB/s\u001b[0m eta \u001b[36m0:00:00\u001b[0m\n",
            "\u001b[2K     \u001b[90m━━━━━━━━━━━━━━━━━━━━━━━━━━━━━━━━━━━━━━━━\u001b[0m \u001b[32m1.1/1.1 MB\u001b[0m \u001b[31m11.4 MB/s\u001b[0m eta \u001b[36m0:00:00\u001b[0m\n",
            "\u001b[2K     \u001b[90m━━━━━━━━━━━━━━━━━━━━━━━━━━━━━━━━━━━━━━━━\u001b[0m \u001b[32m75.6/75.6 kB\u001b[0m \u001b[31m3.7 MB/s\u001b[0m eta \u001b[36m0:00:00\u001b[0m\n",
            "\u001b[2K     \u001b[90m━━━━━━━━━━━━━━━━━━━━━━━━━━━━━━━━━━━━━━━━\u001b[0m \u001b[32m77.9/77.9 kB\u001b[0m \u001b[31m2.8 MB/s\u001b[0m eta \u001b[36m0:00:00\u001b[0m\n",
            "\u001b[2K     \u001b[90m━━━━━━━━━━━━━━━━━━━━━━━━━━━━━━━━━━━━━━━━\u001b[0m \u001b[32m58.3/58.3 kB\u001b[0m \u001b[31m2.1 MB/s\u001b[0m eta \u001b[36m0:00:00\u001b[0m\n",
            "\u001b[?25h"
          ]
        }
      ]
    },
    {
      "cell_type": "code",
      "execution_count": 2,
      "metadata": {
        "id": "356UHG_abKKv"
      },
      "outputs": [],
      "source": [
        "import openai\n",
        "import tiktoken\n",
        "from google.colab import userdata\n",
        "\n",
        "api_key = userdata.get('OPENAI_API_KEY')\n",
        "\n",
        "client = openai.Client(api_key=api_key)"
      ]
    },
    {
      "cell_type": "markdown",
      "source": [
        "# helper function"
      ],
      "metadata": {
        "id": "gyevfXFnb3co"
      }
    },
    {
      "cell_type": "code",
      "source": [
        "def get_completion(prompt, model='gpt-3.5-turbo'):\n",
        "  messages = [{'role': 'user', 'content': prompt}]\n",
        "  response = client.chat.completions.create(\n",
        "      model=model,\n",
        "      messages=messages,\n",
        "      temperature=1\n",
        "  )\n",
        "\n",
        "  return response.choices[0].message.content"
      ],
      "metadata": {
        "id": "0p83RfSnbQoC"
      },
      "execution_count": 3,
      "outputs": []
    },
    {
      "cell_type": "markdown",
      "source": [
        "# helper function in chat format"
      ],
      "metadata": {
        "id": "RBtfFmt4eEZU"
      }
    },
    {
      "cell_type": "code",
      "source": [
        "def get_completion_from_messages(messages, model='gpt-3.5-turbo', temperature=0, max_tokens=500):\n",
        "  response = client.chat.completions.create(\n",
        "      model=model,\n",
        "      messages=messages,\n",
        "      temperature=temperature, # degree of randomness\n",
        "      max_tokens=max_tokens # max number of tokens that model can output\n",
        "  )\n",
        "\n",
        "  return response.choices[0].message.content"
      ],
      "metadata": {
        "id": "3rCDMk8od8px"
      },
      "execution_count": 4,
      "outputs": []
    },
    {
      "cell_type": "markdown",
      "source": [
        "# Implement a complex task with multiple prompts\n",
        "\n",
        "## Extract relevant prodcut and category names"
      ],
      "metadata": {
        "id": "yRWFbaJ84ym2"
      }
    },
    {
      "cell_type": "code",
      "source": [
        "delimiter = '####'\n",
        "system_message = f\"\"\"\n",
        "You will be provided with customer service queries. \\\n",
        "The customer service queries are delimited by \\\n",
        "{delimiter} characters.\n",
        "\n",
        "Output a list of objects, where each object has \\\n",
        "  'category': <one of Computers and Laptops, \\\n",
        "  Smartphones and Accessories, \\\n",
        "  Televisions and Home Theater Systems, \\\n",
        "  Gaming Consoles and Accessories,\n",
        "  Audio Equipment, Cameras and Camcorders>,\n",
        "OR\n",
        "  'products': <a list of products that must \\\n",
        "  be found in the allowed products below>\n",
        "\n",
        "Where the categories and products must be found in customer service query.\n",
        "\n",
        "If a product is mentioned, it must be associated with \\\n",
        "the correct category in the allowed products list below.\n",
        "If no products or categories are found, output an \\\n",
        "empty list\n",
        "\n",
        "Allowed products:\n",
        "\n",
        "Computers and Laptops category:\n",
        "TechPro Ultrabook\n",
        "Bluewave Gaming Laptop\n",
        "PowerLite Convertible\n",
        "TechPro Desktop\n",
        "Bluewave Chromebook\n",
        "\n",
        "Smartphones and Accessories category:\n",
        "SmartX ProPhone\n",
        "MobiTech PowerCase\n",
        "SmartX MiniPhone\n",
        "MobiTech Wireless Charger\n",
        "SmartX EarBuds\n",
        "\n",
        "Televisions and Home Theater Systems category:\n",
        "CineView 4K TV\n",
        "SoundMax Home Theater\n",
        "CineView 8K TV\n",
        "SoundMax Soundbar\n",
        "CineView OLED TV\n",
        "\n",
        "Gaming Consoles and Accessories category:\n",
        "GameSphere X\n",
        "ProGamer Controller\n",
        "GameSphere Y\n",
        "ProGamer Racing Wheel\n",
        "GameSphere VR Headset\n",
        "\n",
        "Audio Equipment category:\n",
        "AudioPhonic Noise-Canceling Headphones\n",
        "WaveSound Bluetooth Speaker\n",
        "AudioPhonic True Wireless Earbuds\n",
        "WaveSound Soundbar\n",
        "AudioPhonic Turntable\n",
        "\n",
        "Cameras and Camcorders category:\n",
        "FotoSnap DSLR Camera\n",
        "ActionCam 4K\n",
        "FotoSnap Mirrorless Camera\n",
        "ZoomMaster Camcorder\n",
        "FotoSnap Instant Camera\n",
        "\n",
        "only output the list of objects with nothing else.\n",
        "\"\"\""
      ],
      "metadata": {
        "id": "KCvLnnmKci0x"
      },
      "execution_count": 5,
      "outputs": []
    },
    {
      "cell_type": "code",
      "source": [
        "format_usr_msg = lambda x: f\"{delimiter}{x}{delimiter}\""
      ],
      "metadata": {
        "id": "6ejYisGFnBPM"
      },
      "execution_count": 6,
      "outputs": []
    },
    {
      "cell_type": "code",
      "source": [
        "user_msg1 = 'tell me about the smartx pro phone and \\\n",
        "  the fotosnap camera, the dslr one. \\\n",
        "  Also tell me about your tvs'\n",
        "\n",
        "messages = [\n",
        "    dict(role='system', content=system_message),\n",
        "    dict(role='user', content=format_usr_msg(user_msg1))\n",
        "]\n",
        "response1 = get_completion_from_messages(messages)\n",
        "print(response1)\n"
      ],
      "metadata": {
        "colab": {
          "base_uri": "https://localhost:8080/"
        },
        "id": "dGowxZVSmwSj",
        "outputId": "988a922c-d38d-4610-bd25-18ddcc7d8fdf"
      },
      "execution_count": 7,
      "outputs": [
        {
          "output_type": "stream",
          "name": "stdout",
          "text": [
            "[\n",
            "    {\n",
            "        \"category\": \"Smartphones and Accessories\",\n",
            "        \"products\": [\n",
            "            \"SmartX ProPhone\"\n",
            "        ]\n",
            "    },\n",
            "    {\n",
            "        \"category\": \"Cameras and Camcorders\",\n",
            "        \"products\": [\n",
            "            \"FotoSnap DSLR Camera\"\n",
            "        ]\n",
            "    },\n",
            "    {\n",
            "        \"category\": \"Televisions and Home Theater Systems\",\n",
            "        \"products\": [\n",
            "            \"CineView 4K TV\",\n",
            "            \"CineView 8K TV\",\n",
            "            \"CineView OLED TV\",\n",
            "            \"SoundMax Home Theater\",\n",
            "            \"SoundMax Soundbar\"\n",
            "        ]\n",
            "    }\n",
            "]\n"
          ]
        }
      ]
    },
    {
      "cell_type": "code",
      "source": [
        "user_msg2 = 'my router is not working'\n",
        "messages = [\n",
        "    dict(role='system', content=system_message),\n",
        "    dict(role='user', content=format_usr_msg(user_msg2))\n",
        "]\n",
        "response2 = get_completion_from_messages(messages)\n",
        "print(response2)"
      ],
      "metadata": {
        "colab": {
          "base_uri": "https://localhost:8080/"
        },
        "id": "qs-vQ9SDnW3v",
        "outputId": "01d49a05-5642-4b7f-c546-e92f8d72ab62"
      },
      "execution_count": 8,
      "outputs": [
        {
          "output_type": "stream",
          "name": "stdout",
          "text": [
            "[]\n"
          ]
        }
      ]
    },
    {
      "cell_type": "markdown",
      "source": [
        "## Retrieve detailed product information for extracted products and categories"
      ],
      "metadata": {
        "id": "1rKTO35HppZ-"
      }
    },
    {
      "cell_type": "code",
      "source": [
        "# product information\n",
        "products = {\n",
        "    \"TechPro Ultrabook\": {\n",
        "        \"name\": \"TechPro Ultrabook\",\n",
        "        \"category\": \"Computers and Laptops\",\n",
        "        \"brand\": \"TechPro\",\n",
        "        \"model_number\": \"TP-UB100\",\n",
        "        \"warranty\": \"1 year\",\n",
        "        \"rating\": 4.5,\n",
        "        \"features\": [\"13.3-inch display\", \"8GB RAM\", \"256GB SSD\", \"Intel Core i5 processor\"],\n",
        "        \"description\": \"A sleek and lightweight ultrabook for everyday use.\",\n",
        "        \"price\": 799.99\n",
        "    },\n",
        "    \"BlueWave Gaming Laptop\": {\n",
        "        \"name\": \"BlueWave Gaming Laptop\",\n",
        "        \"category\": \"Computers and Laptops\",\n",
        "        \"brand\": \"BlueWave\",\n",
        "        \"model_number\": \"BW-GL200\",\n",
        "        \"warranty\": \"2 years\",\n",
        "        \"rating\": 4.7,\n",
        "        \"features\": [\"15.6-inch display\", \"16GB RAM\", \"512GB SSD\", \"NVIDIA GeForce RTX 3060\"],\n",
        "        \"description\": \"A high-performance gaming laptop for an immersive experience.\",\n",
        "        \"price\": 1199.99\n",
        "    },\n",
        "    \"PowerLite Convertible\": {\n",
        "        \"name\": \"PowerLite Convertible\",\n",
        "        \"category\": \"Computers and Laptops\",\n",
        "        \"brand\": \"PowerLite\",\n",
        "        \"model_number\": \"PL-CV300\",\n",
        "        \"warranty\": \"1 year\",\n",
        "        \"rating\": 4.3,\n",
        "        \"features\": [\"14-inch touchscreen\", \"8GB RAM\", \"256GB SSD\", \"360-degree hinge\"],\n",
        "        \"description\": \"A versatile convertible laptop with a responsive touchscreen.\",\n",
        "        \"price\": 699.99\n",
        "    },\n",
        "    \"TechPro Desktop\": {\n",
        "        \"name\": \"TechPro Desktop\",\n",
        "        \"category\": \"Computers and Laptops\",\n",
        "        \"brand\": \"TechPro\",\n",
        "        \"model_number\": \"TP-DT500\",\n",
        "        \"warranty\": \"1 year\",\n",
        "        \"rating\": 4.4,\n",
        "        \"features\": [\"Intel Core i7 processor\", \"16GB RAM\", \"1TB HDD\", \"NVIDIA GeForce GTX 1660\"],\n",
        "        \"description\": \"A powerful desktop computer for work and play.\",\n",
        "        \"price\": 999.99\n",
        "    },\n",
        "    \"BlueWave Chromebook\": {\n",
        "        \"name\": \"BlueWave Chromebook\",\n",
        "        \"category\": \"Computers and Laptops\",\n",
        "        \"brand\": \"BlueWave\",\n",
        "        \"model_number\": \"BW-CB100\",\n",
        "        \"warranty\": \"1 year\",\n",
        "        \"rating\": 4.1,\n",
        "        \"features\": [\"11.6-inch display\", \"4GB RAM\", \"32GB eMMC\", \"Chrome OS\"],\n",
        "        \"description\": \"A compact and affordable Chromebook for everyday tasks.\",\n",
        "        \"price\": 249.99\n",
        "    },\n",
        "    \"SmartX ProPhone\": {\n",
        "        \"name\": \"SmartX ProPhone\",\n",
        "        \"category\": \"Smartphones and Accessories\",\n",
        "        \"brand\": \"SmartX\",\n",
        "        \"model_number\": \"SX-PP10\",\n",
        "        \"warranty\": \"1 year\",\n",
        "        \"rating\": 4.6,\n",
        "        \"features\": [\"6.1-inch display\", \"128GB storage\", \"12MP dual camera\", \"5G\"],\n",
        "        \"description\": \"A powerful smartphone with advanced camera features.\",\n",
        "        \"price\": 899.99\n",
        "    },\n",
        "    \"MobiTech PowerCase\": {\n",
        "        \"name\": \"MobiTech PowerCase\",\n",
        "        \"category\": \"Smartphones and Accessories\",\n",
        "        \"brand\": \"MobiTech\",\n",
        "        \"model_number\": \"MT-PC20\",\n",
        "        \"warranty\": \"1 year\",\n",
        "        \"rating\": 4.3,\n",
        "        \"features\": [\"5000mAh battery\", \"Wireless charging\", \"Compatible with SmartX ProPhone\"],\n",
        "        \"description\": \"A protective case with built-in battery for extended usage.\",\n",
        "        \"price\": 59.99\n",
        "    },\n",
        "    \"SmartX MiniPhone\": {\n",
        "        \"name\": \"SmartX MiniPhone\",\n",
        "        \"category\": \"Smartphones and Accessories\",\n",
        "        \"brand\": \"SmartX\",\n",
        "        \"model_number\": \"SX-MP5\",\n",
        "        \"warranty\": \"1 year\",\n",
        "        \"rating\": 4.2,\n",
        "        \"features\": [\"4.7-inch display\", \"64GB storage\", \"8MP camera\", \"4G\"],\n",
        "        \"description\": \"A compact and affordable smartphone for basic tasks.\",\n",
        "        \"price\": 399.99\n",
        "    },\n",
        "    \"MobiTech Wireless Charger\": {\n",
        "        \"name\": \"MobiTech Wireless Charger\",\n",
        "        \"category\": \"Smartphones and Accessories\",\n",
        "        \"brand\": \"MobiTech\",\n",
        "        \"model_number\": \"MT-WC10\",\n",
        "        \"warranty\": \"1 year\",\n",
        "        \"rating\": 4.5,\n",
        "        \"features\": [\"10W fast charging\", \"Qi-compatible\", \"LED indicator\", \"Compact design\"],\n",
        "        \"description\": \"A convenient wireless charger for a clutter-free workspace.\",\n",
        "        \"price\": 29.99\n",
        "    },\n",
        "    \"SmartX EarBuds\": {\n",
        "        \"name\": \"SmartX EarBuds\",\n",
        "        \"category\": \"Smartphones and Accessories\",\n",
        "        \"brand\": \"SmartX\",\n",
        "        \"model_number\": \"SX-EB20\",\n",
        "        \"warranty\": \"1 year\",\n",
        "        \"rating\": 4.4,\n",
        "        \"features\": [\"True wireless\", \"Bluetooth 5.0\", \"Touch controls\", \"24-hour battery life\"],\n",
        "        \"description\": \"Experience true wireless freedom with these comfortable earbuds.\",\n",
        "        \"price\": 99.99\n",
        "    },\n",
        "\n",
        "    \"CineView 4K TV\": {\n",
        "        \"name\": \"CineView 4K TV\",\n",
        "        \"category\": \"Televisions and Home Theater Systems\",\n",
        "        \"brand\": \"CineView\",\n",
        "        \"model_number\": \"CV-4K55\",\n",
        "        \"warranty\": \"2 years\",\n",
        "        \"rating\": 4.8,\n",
        "        \"features\": [\"55-inch display\", \"4K resolution\", \"HDR\", \"Smart TV\"],\n",
        "        \"description\": \"A stunning 4K TV with vibrant colors and smart features.\",\n",
        "        \"price\": 599.99\n",
        "    },\n",
        "    \"SoundMax Home Theater\": {\n",
        "        \"name\": \"SoundMax Home Theater\",\n",
        "        \"category\": \"Televisions and Home Theater Systems\",\n",
        "        \"brand\": \"SoundMax\",\n",
        "        \"model_number\": \"SM-HT100\",\n",
        "        \"warranty\": \"1 year\",\n",
        "        \"rating\": 4.4,\n",
        "        \"features\": [\"5.1 channel\", \"1000W output\", \"Wireless subwoofer\", \"Bluetooth\"],\n",
        "        \"description\": \"A powerful home theater system for an immersive audio experience.\",\n",
        "        \"price\": 399.99\n",
        "    },\n",
        "    \"CineView 8K TV\": {\n",
        "        \"name\": \"CineView 8K TV\",\n",
        "        \"category\": \"Televisions and Home Theater Systems\",\n",
        "        \"brand\": \"CineView\",\n",
        "        \"model_number\": \"CV-8K65\",\n",
        "        \"warranty\": \"2 years\",\n",
        "        \"rating\": 4.9,\n",
        "        \"features\": [\"65-inch display\", \"8K resolution\", \"HDR\", \"Smart TV\"],\n",
        "        \"description\": \"Experience the future of television with this stunning 8K TV.\",\n",
        "        \"price\": 2999.99\n",
        "    },\n",
        "    \"SoundMax Soundbar\": {\n",
        "        \"name\": \"SoundMax Soundbar\",\n",
        "        \"category\": \"Televisions and Home Theater Systems\",\n",
        "        \"brand\": \"SoundMax\",\n",
        "        \"model_number\": \"SM-SB50\",\n",
        "        \"warranty\": \"1 year\",\n",
        "        \"rating\": 4.3,\n",
        "        \"features\": [\"2.1 channel\", \"300W output\", \"Wireless subwoofer\", \"Bluetooth\"],\n",
        "        \"description\": \"Upgrade your TV's audio with this sleek and powerful soundbar.\",\n",
        "        \"price\": 199.99\n",
        "    },\n",
        "    \"CineView OLED TV\": {\n",
        "        \"name\": \"CineView OLED TV\",\n",
        "        \"category\": \"Televisions and Home Theater Systems\",\n",
        "        \"brand\": \"CineView\",\n",
        "        \"model_number\": \"CV-OLED55\",\n",
        "        \"warranty\": \"2 years\",\n",
        "        \"rating\": 4.7,\n",
        "        \"features\": [\"55-inch display\", \"4K resolution\", \"HDR\", \"Smart TV\"],\n",
        "        \"description\": \"Experience true blacks and vibrant colors with this OLED TV.\",\n",
        "        \"price\": 1499.99\n",
        "    },\n",
        "\n",
        "    \"GameSphere X\": {\n",
        "        \"name\": \"GameSphere X\",\n",
        "        \"category\": \"Gaming Consoles and Accessories\",\n",
        "        \"brand\": \"GameSphere\",\n",
        "        \"model_number\": \"GS-X\",\n",
        "        \"warranty\": \"1 year\",\n",
        "        \"rating\": 4.9,\n",
        "        \"features\": [\"4K gaming\", \"1TB storage\", \"Backward compatibility\", \"Online multiplayer\"],\n",
        "        \"description\": \"A next-generation gaming console for the ultimate gaming experience.\",\n",
        "        \"price\": 499.99\n",
        "    },\n",
        "    \"ProGamer Controller\": {\n",
        "        \"name\": \"ProGamer Controller\",\n",
        "        \"category\": \"Gaming Consoles and Accessories\",\n",
        "        \"brand\": \"ProGamer\",\n",
        "        \"model_number\": \"PG-C100\",\n",
        "        \"warranty\": \"1 year\",\n",
        "        \"rating\": 4.2,\n",
        "        \"features\": [\"Ergonomic design\", \"Customizable buttons\", \"Wireless\", \"Rechargeable battery\"],\n",
        "        \"description\": \"A high-quality gaming controller for precision and comfort.\",\n",
        "        \"price\": 59.99\n",
        "    },\n",
        "    \"GameSphere Y\": {\n",
        "        \"name\": \"GameSphere Y\",\n",
        "        \"category\": \"Gaming Consoles and Accessories\",\n",
        "        \"brand\": \"GameSphere\",\n",
        "        \"model_number\": \"GS-Y\",\n",
        "        \"warranty\": \"1 year\",\n",
        "        \"rating\": 4.8,\n",
        "        \"features\": [\"4K gaming\", \"500GB storage\", \"Backward compatibility\", \"Online multiplayer\"],\n",
        "        \"description\": \"A compact gaming console with powerful performance.\",\n",
        "        \"price\": 399.99\n",
        "    },\n",
        "    \"ProGamer Racing Wheel\": {\n",
        "        \"name\": \"ProGamer Racing Wheel\",\n",
        "        \"category\": \"Gaming Consoles and Accessories\",\n",
        "        \"brand\": \"ProGamer\",\n",
        "        \"model_number\": \"PG-RW200\",\n",
        "        \"warranty\": \"1 year\",\n",
        "        \"rating\": 4.5,\n",
        "        \"features\": [\"Force feedback\", \"Adjustable pedals\", \"Paddle shifters\", \"Compatible with GameSphere X\"],\n",
        "        \"description\": \"Enhance your racing games with this realistic racing wheel.\",\n",
        "        \"price\": 249.99\n",
        "    },\n",
        "    \"GameSphere VR Headset\": {\n",
        "        \"name\": \"GameSphere VR Headset\",\n",
        "        \"category\": \"Gaming Consoles and Accessories\",\n",
        "        \"brand\": \"GameSphere\",\n",
        "        \"model_number\": \"GS-VR\",\n",
        "        \"warranty\": \"1 year\",\n",
        "        \"rating\": 4.6,\n",
        "        \"features\": [\"Immersive VR experience\", \"Built-in headphones\", \"Adjustable headband\", \"Compatible with GameSphere X\"],\n",
        "        \"description\": \"Step into the world of virtual reality with this comfortable VR headset.\",\n",
        "        \"price\": 299.99\n",
        "    },\n",
        "\n",
        "    \"AudioPhonic Noise-Canceling Headphones\": {\n",
        "        \"name\": \"AudioPhonic Noise-Canceling Headphones\",\n",
        "        \"category\": \"Audio Equipment\",\n",
        "        \"brand\": \"AudioPhonic\",\n",
        "        \"model_number\": \"AP-NC100\",\n",
        "        \"warranty\": \"1 year\",\n",
        "        \"rating\": 4.6,\n",
        "        \"features\": [\"Active noise-canceling\", \"Bluetooth\", \"20-hour battery life\", \"Comfortable fit\"],\n",
        "        \"description\": \"Experience immersive sound with these noise-canceling headphones.\",\n",
        "        \"price\": 199.99\n",
        "    },\n",
        "    \"WaveSound Bluetooth Speaker\": {\n",
        "        \"name\": \"WaveSound Bluetooth Speaker\",\n",
        "        \"category\": \"Audio Equipment\",\n",
        "        \"brand\": \"WaveSound\",\n",
        "        \"model_number\": \"WS-BS50\",\n",
        "        \"warranty\": \"1 year\",\n",
        "        \"rating\": 4.5,\n",
        "        \"features\": [\"Portable\", \"10-hour battery life\", \"Water-resistant\", \"Built-in microphone\"],\n",
        "        \"description\": \"A compact and versatile Bluetooth speaker for music on the go.\",\n",
        "        \"price\": 49.99\n",
        "    },\n",
        "    \"AudioPhonic True Wireless Earbuds\": {\n",
        "        \"name\": \"AudioPhonic True Wireless Earbuds\",\n",
        "        \"category\": \"Audio Equipment\",\n",
        "        \"brand\": \"AudioPhonic\",\n",
        "        \"model_number\": \"AP-TW20\",\n",
        "        \"warranty\": \"1 year\",\n",
        "        \"rating\": 4.4,\n",
        "        \"features\": [\"True wireless\", \"Bluetooth 5.0\", \"Touch controls\", \"18-hour battery life\"],\n",
        "        \"description\": \"Enjoy music without wires with these comfortable true wireless earbuds.\",\n",
        "        \"price\": 79.99\n",
        "    },\n",
        "    \"WaveSound Soundbar\": {\n",
        "        \"name\": \"WaveSound Soundbar\",\n",
        "        \"category\": \"Audio Equipment\",\n",
        "        \"brand\": \"WaveSound\",\n",
        "        \"model_number\": \"WS-SB40\",\n",
        "        \"warranty\": \"1 year\",\n",
        "        \"rating\": 4.3,\n",
        "        \"features\": [\"2.0 channel\", \"80W output\", \"Bluetooth\", \"Wall-mountable\"],\n",
        "        \"description\": \"Upgrade your TV's audio with this slim and powerful soundbar.\",\n",
        "        \"price\": 99.99\n",
        "    },\n",
        "    \"AudioPhonic Turntable\": {\n",
        "        \"name\": \"AudioPhonic Turntable\",\n",
        "        \"category\": \"Audio Equipment\",\n",
        "        \"brand\": \"AudioPhonic\",\n",
        "        \"model_number\": \"AP-TT10\",\n",
        "        \"warranty\": \"1 year\",\n",
        "        \"rating\": 4.2,\n",
        "        \"features\": [\"3-speed\", \"Built-in speakers\", \"Bluetooth\", \"USB recording\"],\n",
        "        \"description\": \"Rediscover your vinyl collection with this modern turntable.\",\n",
        "        \"price\": 149.99\n",
        "    },\n",
        "\n",
        "    \"FotoSnap DSLR Camera\": {\n",
        "        \"name\": \"FotoSnap DSLR Camera\",\n",
        "        \"category\": \"Cameras and Camcorders\",\n",
        "        \"brand\": \"FotoSnap\",\n",
        "        \"model_number\": \"FS-DSLR200\",\n",
        "        \"warranty\": \"1 year\",\n",
        "        \"rating\": 4.7,\n",
        "        \"features\": [\"24.2MP sensor\", \"1080p video\", \"3-inch LCD\", \"Interchangeable lenses\"],\n",
        "        \"description\": \"Capture stunning photos and videos with this versatile DSLR camera.\",\n",
        "        \"price\": 599.99\n",
        "    },\n",
        "    \"ActionCam 4K\": {\n",
        "        \"name\": \"ActionCam 4K\",\n",
        "        \"category\": \"Cameras and Camcorders\",\n",
        "        \"brand\": \"ActionCam\",\n",
        "        \"model_number\": \"AC-4K\",\n",
        "        \"warranty\": \"1 year\",\n",
        "        \"rating\": 4.4,\n",
        "        \"features\": [\"4K video\", \"Waterproof\", \"Image stabilization\", \"Wi-Fi\"],\n",
        "        \"description\": \"Record your adventures with this rugged and compact 4K action camera.\",\n",
        "        \"price\": 299.99\n",
        "    },\n",
        "    \"FotoSnap Mirrorless Camera\": {\n",
        "        \"name\": \"FotoSnap Mirrorless Camera\",\n",
        "        \"category\": \"Cameras and Camcorders\",\n",
        "        \"brand\": \"FotoSnap\",\n",
        "        \"model_number\": \"FS-ML100\",\n",
        "        \"warranty\": \"1 year\",\n",
        "        \"rating\": 4.6,\n",
        "        \"features\": [\"20.1MP sensor\", \"4K video\", \"3-inch touchscreen\", \"Interchangeable lenses\"],\n",
        "        \"description\": \"A compact and lightweight mirrorless camera with advanced features.\",\n",
        "        \"price\": 799.99\n",
        "    },\n",
        "    \"ZoomMaster Camcorder\": {\n",
        "        \"name\": \"ZoomMaster Camcorder\",\n",
        "        \"category\": \"Cameras and Camcorders\",\n",
        "        \"brand\": \"ZoomMaster\",\n",
        "        \"model_number\": \"ZM-CM50\",\n",
        "        \"warranty\": \"1 year\",\n",
        "        \"rating\": 4.3,\n",
        "        \"features\": [\"1080p video\", \"30x optical zoom\", \"3-inch LCD\", \"Image stabilization\"],\n",
        "        \"description\": \"Capture life's moments with this easy-to-use camcorder.\",\n",
        "        \"price\": 249.99\n",
        "    },\n",
        "    \"FotoSnap Instant Camera\": {\n",
        "        \"name\": \"FotoSnap Instant Camera\",\n",
        "        \"category\": \"Cameras and Camcorders\",\n",
        "        \"brand\": \"FotoSnap\",\n",
        "        \"model_number\": \"FS-IC10\",\n",
        "        \"warranty\": \"1 year\",\n",
        "        \"rating\": 4.1,\n",
        "        \"features\": [\"Instant prints\", \"Built-in flash\", \"Selfie mirror\", \"Battery-powered\"],\n",
        "        \"description\": \"Create instant memories with this fun and portable instant camera.\",\n",
        "        \"price\": 69.99\n",
        "    }\n",
        "}"
      ],
      "metadata": {
        "id": "DC2kxs-RpIUe"
      },
      "execution_count": 9,
      "outputs": []
    },
    {
      "cell_type": "code",
      "source": [
        "def get_product_by_name(name):\n",
        "  return products.get(name, None)\n",
        "\n",
        "def get_products_by_category(category):\n",
        "  return [product for product in products.values() if product['category'] == category]"
      ],
      "metadata": {
        "id": "Cocq0FOepz0Y"
      },
      "execution_count": 10,
      "outputs": []
    },
    {
      "cell_type": "code",
      "source": [
        "print(get_product_by_name('TechPro Ultrabook'))"
      ],
      "metadata": {
        "colab": {
          "base_uri": "https://localhost:8080/"
        },
        "id": "Yx9xG4-6qV5_",
        "outputId": "b616ea82-90ab-41c1-9d00-b2298652d7ed"
      },
      "execution_count": 11,
      "outputs": [
        {
          "output_type": "stream",
          "name": "stdout",
          "text": [
            "{'name': 'TechPro Ultrabook', 'category': 'Computers and Laptops', 'brand': 'TechPro', 'model_number': 'TP-UB100', 'warranty': '1 year', 'rating': 4.5, 'features': ['13.3-inch display', '8GB RAM', '256GB SSD', 'Intel Core i5 processor'], 'description': 'A sleek and lightweight ultrabook for everyday use.', 'price': 799.99}\n"
          ]
        }
      ]
    },
    {
      "cell_type": "code",
      "source": [
        "from pprint import pprint"
      ],
      "metadata": {
        "id": "flv_N08Wqec1"
      },
      "execution_count": 12,
      "outputs": []
    },
    {
      "cell_type": "code",
      "source": [
        "pprint(get_products_by_category('Computers and Laptops'))"
      ],
      "metadata": {
        "colab": {
          "base_uri": "https://localhost:8080/"
        },
        "id": "l_136OIYqjRd",
        "outputId": "fcbc5c2d-de6d-40c0-d65f-e639a6f5c036"
      },
      "execution_count": 14,
      "outputs": [
        {
          "output_type": "stream",
          "name": "stdout",
          "text": [
            "[{'brand': 'TechPro',\n",
            "  'category': 'Computers and Laptops',\n",
            "  'description': 'A sleek and lightweight ultrabook for everyday use.',\n",
            "  'features': ['13.3-inch display',\n",
            "               '8GB RAM',\n",
            "               '256GB SSD',\n",
            "               'Intel Core i5 processor'],\n",
            "  'model_number': 'TP-UB100',\n",
            "  'name': 'TechPro Ultrabook',\n",
            "  'price': 799.99,\n",
            "  'rating': 4.5,\n",
            "  'warranty': '1 year'},\n",
            " {'brand': 'BlueWave',\n",
            "  'category': 'Computers and Laptops',\n",
            "  'description': 'A high-performance gaming laptop for an immersive '\n",
            "                 'experience.',\n",
            "  'features': ['15.6-inch display',\n",
            "               '16GB RAM',\n",
            "               '512GB SSD',\n",
            "               'NVIDIA GeForce RTX 3060'],\n",
            "  'model_number': 'BW-GL200',\n",
            "  'name': 'BlueWave Gaming Laptop',\n",
            "  'price': 1199.99,\n",
            "  'rating': 4.7,\n",
            "  'warranty': '2 years'},\n",
            " {'brand': 'PowerLite',\n",
            "  'category': 'Computers and Laptops',\n",
            "  'description': 'A versatile convertible laptop with a responsive '\n",
            "                 'touchscreen.',\n",
            "  'features': ['14-inch touchscreen',\n",
            "               '8GB RAM',\n",
            "               '256GB SSD',\n",
            "               '360-degree hinge'],\n",
            "  'model_number': 'PL-CV300',\n",
            "  'name': 'PowerLite Convertible',\n",
            "  'price': 699.99,\n",
            "  'rating': 4.3,\n",
            "  'warranty': '1 year'},\n",
            " {'brand': 'TechPro',\n",
            "  'category': 'Computers and Laptops',\n",
            "  'description': 'A powerful desktop computer for work and play.',\n",
            "  'features': ['Intel Core i7 processor',\n",
            "               '16GB RAM',\n",
            "               '1TB HDD',\n",
            "               'NVIDIA GeForce GTX 1660'],\n",
            "  'model_number': 'TP-DT500',\n",
            "  'name': 'TechPro Desktop',\n",
            "  'price': 999.99,\n",
            "  'rating': 4.4,\n",
            "  'warranty': '1 year'},\n",
            " {'brand': 'BlueWave',\n",
            "  'category': 'Computers and Laptops',\n",
            "  'description': 'A compact and affordable Chromebook for everyday tasks.',\n",
            "  'features': ['11.6-inch display', '4GB RAM', '32GB eMMC', 'Chrome OS'],\n",
            "  'model_number': 'BW-CB100',\n",
            "  'name': 'BlueWave Chromebook',\n",
            "  'price': 249.99,\n",
            "  'rating': 4.1,\n",
            "  'warranty': '1 year'}]\n"
          ]
        }
      ]
    },
    {
      "cell_type": "code",
      "source": [
        "print(user_msg1)"
      ],
      "metadata": {
        "colab": {
          "base_uri": "https://localhost:8080/"
        },
        "id": "mQ2BYDAFqzl-",
        "outputId": "1991c267-804a-4dca-d79d-3d42cc802d56"
      },
      "execution_count": 15,
      "outputs": [
        {
          "output_type": "stream",
          "name": "stdout",
          "text": [
            "tell me about the smartx pro phone and   the fotosnap camera, the dslr one.   Also tell me about your tvs\n"
          ]
        }
      ]
    },
    {
      "cell_type": "code",
      "source": [
        "print(response1)"
      ],
      "metadata": {
        "colab": {
          "base_uri": "https://localhost:8080/"
        },
        "id": "xcNICA0Hq4ZU",
        "outputId": "32684b13-fef6-4817-afea-bfd8dfb757a4"
      },
      "execution_count": 16,
      "outputs": [
        {
          "output_type": "stream",
          "name": "stdout",
          "text": [
            "[\n",
            "    {\n",
            "        \"category\": \"Smartphones and Accessories\",\n",
            "        \"products\": [\n",
            "            \"SmartX ProPhone\"\n",
            "        ]\n",
            "    },\n",
            "    {\n",
            "        \"category\": \"Cameras and Camcorders\",\n",
            "        \"products\": [\n",
            "            \"FotoSnap DSLR Camera\"\n",
            "        ]\n",
            "    },\n",
            "    {\n",
            "        \"category\": \"Televisions and Home Theater Systems\",\n",
            "        \"products\": [\n",
            "            \"CineView 4K TV\",\n",
            "            \"CineView 8K TV\",\n",
            "            \"CineView OLED TV\",\n",
            "            \"SoundMax Home Theater\",\n",
            "            \"SoundMax Soundbar\"\n",
            "        ]\n",
            "    }\n",
            "]\n"
          ]
        }
      ]
    },
    {
      "cell_type": "markdown",
      "source": [
        "## read python string into python list of dictionaries"
      ],
      "metadata": {
        "id": "KqFVSYvTrIoq"
      }
    },
    {
      "cell_type": "code",
      "source": [
        "import json\n",
        "\n",
        "def read_string_to_list(input_string):\n",
        "  if input_string is None:\n",
        "    return None\n",
        "\n",
        "  try:\n",
        "    input_string = input_string.replace(\"'\", \"\\\"\")\n",
        "    data = json.loads(input_string)\n",
        "    return data\n",
        "  except json.JSONDecodeError:\n",
        "    print('Error: Invalid JSON string')\n",
        "    return None"
      ],
      "metadata": {
        "id": "Ch259iZ-rFGV"
      },
      "execution_count": 17,
      "outputs": []
    },
    {
      "cell_type": "code",
      "source": [
        "category_and_product_list = read_string_to_list(response1)\n",
        "category_and_product_list"
      ],
      "metadata": {
        "colab": {
          "base_uri": "https://localhost:8080/"
        },
        "id": "MvhCWDbZsSv4",
        "outputId": "a0c4b197-53f9-4440-da3a-a835cacdf12e"
      },
      "execution_count": 19,
      "outputs": [
        {
          "output_type": "execute_result",
          "data": {
            "text/plain": [
              "[{'category': 'Smartphones and Accessories', 'products': ['SmartX ProPhone']},\n",
              " {'category': 'Cameras and Camcorders', 'products': ['FotoSnap DSLR Camera']},\n",
              " {'category': 'Televisions and Home Theater Systems',\n",
              "  'products': ['CineView 4K TV',\n",
              "   'CineView 8K TV',\n",
              "   'CineView OLED TV',\n",
              "   'SoundMax Home Theater',\n",
              "   'SoundMax Soundbar']}]"
            ]
          },
          "metadata": {},
          "execution_count": 19
        }
      ]
    },
    {
      "cell_type": "markdown",
      "source": [
        "## retrieve detailed product information for the relevant products and categories"
      ],
      "metadata": {
        "id": "A27x7BKqs76d"
      }
    },
    {
      "cell_type": "code",
      "source": [
        "def generate_output_string(data_list):\n",
        "  output_string = \"\"\n",
        "\n",
        "  if data_list is None:\n",
        "    return output_string\n",
        "\n",
        "  for data in data_list:\n",
        "    try:\n",
        "      if 'products' in data:\n",
        "        products_list = data['products']\n",
        "        for product_name in products_list:\n",
        "          product = get_product_by_name(product_name)\n",
        "          if product:\n",
        "            output_string += json.dumps(product, indent=4) + '\\n'\n",
        "          else:\n",
        "            print(f'Error: product \"{product_name}\" not found')\n",
        "      elif 'category' in data:\n",
        "        category_name = data['category']\n",
        "        category_products = get_products_by_category(category_name)\n",
        "        for product in category_products:\n",
        "          output_string += json.dumps(product, indent=4) + '\\n'\n",
        "      else:\n",
        "        print('Error: invalid object format')\n",
        "    except Exception as e:\n",
        "      print(f'Error: {e}')\n",
        "\n",
        "  return output_string\n",
        "\n",
        ""
      ],
      "metadata": {
        "id": "YAujjJIKsjWW"
      },
      "execution_count": 23,
      "outputs": []
    },
    {
      "cell_type": "code",
      "source": [
        "product_information_for_user_message_1 = generate_output_string(category_and_product_list)\n",
        "print(product_information_for_user_message_1)"
      ],
      "metadata": {
        "colab": {
          "base_uri": "https://localhost:8080/"
        },
        "id": "Xx-DUE8VvNV1",
        "outputId": "55e004c7-6c72-4206-8acc-55ea76d39d6a"
      },
      "execution_count": 25,
      "outputs": [
        {
          "output_type": "stream",
          "name": "stdout",
          "text": [
            "{\n",
            "    \"name\": \"SmartX ProPhone\",\n",
            "    \"category\": \"Smartphones and Accessories\",\n",
            "    \"brand\": \"SmartX\",\n",
            "    \"model_number\": \"SX-PP10\",\n",
            "    \"warranty\": \"1 year\",\n",
            "    \"rating\": 4.6,\n",
            "    \"features\": [\n",
            "        \"6.1-inch display\",\n",
            "        \"128GB storage\",\n",
            "        \"12MP dual camera\",\n",
            "        \"5G\"\n",
            "    ],\n",
            "    \"description\": \"A powerful smartphone with advanced camera features.\",\n",
            "    \"price\": 899.99\n",
            "}\n",
            "{\n",
            "    \"name\": \"FotoSnap DSLR Camera\",\n",
            "    \"category\": \"Cameras and Camcorders\",\n",
            "    \"brand\": \"FotoSnap\",\n",
            "    \"model_number\": \"FS-DSLR200\",\n",
            "    \"warranty\": \"1 year\",\n",
            "    \"rating\": 4.7,\n",
            "    \"features\": [\n",
            "        \"24.2MP sensor\",\n",
            "        \"1080p video\",\n",
            "        \"3-inch LCD\",\n",
            "        \"Interchangeable lenses\"\n",
            "    ],\n",
            "    \"description\": \"Capture stunning photos and videos with this versatile DSLR camera.\",\n",
            "    \"price\": 599.99\n",
            "}\n",
            "{\n",
            "    \"name\": \"CineView 4K TV\",\n",
            "    \"category\": \"Televisions and Home Theater Systems\",\n",
            "    \"brand\": \"CineView\",\n",
            "    \"model_number\": \"CV-4K55\",\n",
            "    \"warranty\": \"2 years\",\n",
            "    \"rating\": 4.8,\n",
            "    \"features\": [\n",
            "        \"55-inch display\",\n",
            "        \"4K resolution\",\n",
            "        \"HDR\",\n",
            "        \"Smart TV\"\n",
            "    ],\n",
            "    \"description\": \"A stunning 4K TV with vibrant colors and smart features.\",\n",
            "    \"price\": 599.99\n",
            "}\n",
            "{\n",
            "    \"name\": \"CineView 8K TV\",\n",
            "    \"category\": \"Televisions and Home Theater Systems\",\n",
            "    \"brand\": \"CineView\",\n",
            "    \"model_number\": \"CV-8K65\",\n",
            "    \"warranty\": \"2 years\",\n",
            "    \"rating\": 4.9,\n",
            "    \"features\": [\n",
            "        \"65-inch display\",\n",
            "        \"8K resolution\",\n",
            "        \"HDR\",\n",
            "        \"Smart TV\"\n",
            "    ],\n",
            "    \"description\": \"Experience the future of television with this stunning 8K TV.\",\n",
            "    \"price\": 2999.99\n",
            "}\n",
            "{\n",
            "    \"name\": \"CineView OLED TV\",\n",
            "    \"category\": \"Televisions and Home Theater Systems\",\n",
            "    \"brand\": \"CineView\",\n",
            "    \"model_number\": \"CV-OLED55\",\n",
            "    \"warranty\": \"2 years\",\n",
            "    \"rating\": 4.7,\n",
            "    \"features\": [\n",
            "        \"55-inch display\",\n",
            "        \"4K resolution\",\n",
            "        \"HDR\",\n",
            "        \"Smart TV\"\n",
            "    ],\n",
            "    \"description\": \"Experience true blacks and vibrant colors with this OLED TV.\",\n",
            "    \"price\": 1499.99\n",
            "}\n",
            "{\n",
            "    \"name\": \"SoundMax Home Theater\",\n",
            "    \"category\": \"Televisions and Home Theater Systems\",\n",
            "    \"brand\": \"SoundMax\",\n",
            "    \"model_number\": \"SM-HT100\",\n",
            "    \"warranty\": \"1 year\",\n",
            "    \"rating\": 4.4,\n",
            "    \"features\": [\n",
            "        \"5.1 channel\",\n",
            "        \"1000W output\",\n",
            "        \"Wireless subwoofer\",\n",
            "        \"Bluetooth\"\n",
            "    ],\n",
            "    \"description\": \"A powerful home theater system for an immersive audio experience.\",\n",
            "    \"price\": 399.99\n",
            "}\n",
            "{\n",
            "    \"name\": \"SoundMax Soundbar\",\n",
            "    \"category\": \"Televisions and Home Theater Systems\",\n",
            "    \"brand\": \"SoundMax\",\n",
            "    \"model_number\": \"SM-SB50\",\n",
            "    \"warranty\": \"1 year\",\n",
            "    \"rating\": 4.3,\n",
            "    \"features\": [\n",
            "        \"2.1 channel\",\n",
            "        \"300W output\",\n",
            "        \"Wireless subwoofer\",\n",
            "        \"Bluetooth\"\n",
            "    ],\n",
            "    \"description\": \"Upgrade your TV's audio with this sleek and powerful soundbar.\",\n",
            "    \"price\": 199.99\n",
            "}\n",
            "\n"
          ]
        }
      ]
    },
    {
      "cell_type": "markdown",
      "source": [
        "## generate answer to user query based on detailed product information"
      ],
      "metadata": {
        "id": "GHVs9S1rwSwB"
      }
    },
    {
      "cell_type": "code",
      "source": [
        "system_message = f\"\"\"\n",
        "You are customer service assitant for  a \\\n",
        "large electronice store. \\\n",
        "Respond in a friendly and helpful tone, \\\n",
        "with very concise answers. \\\n",
        "Make sure to ask the user relevant followup questions.\n",
        "\"\"\"\n",
        "\n",
        "user_message_1 = f\"\"\"\n",
        "tell me about the smartx pro  phone and \\\n",
        "the footsnap camera, the dslr one.\\\n",
        "Also tell me about your tvs\n",
        "\"\"\"\n",
        "\n",
        "messages = [\n",
        "    dict(role='system', content=system_message),\n",
        "    dict(role='user', content=user_message_1),\n",
        "    dict(role='assistant', content='relevant product information:\\n\\\n",
        "    {product_information_for_user_message_1}')\n",
        "]\n",
        "\n",
        "final_response = get_completion_from_messages(messages)\n",
        "pprint(final_response)\n"
      ],
      "metadata": {
        "colab": {
          "base_uri": "https://localhost:8080/"
        },
        "id": "kj4HbrxDvwh5",
        "outputId": "e35f2fa7-d8f7-4769-b83d-39398771a03c"
      },
      "execution_count": 27,
      "outputs": [
        {
          "output_type": "stream",
          "name": "stdout",
          "text": [
            "('Sure! The SmartX Pro phone has a high-resolution display and a powerful '\n",
            " 'processor. The FootSnap camera is a DSLR camera with interchangeable lenses '\n",
            " 'for professional photography. Our TVs come in various sizes and resolutions, '\n",
            " 'with smart features for streaming content. \\n'\n",
            " 'Do you have any specific questions about the SmartX Pro phone, FootSnap '\n",
            " 'camera, or our TVs?')\n"
          ]
        }
      ]
    },
    {
      "cell_type": "code",
      "source": [],
      "metadata": {
        "id": "rexnjX2fxzkz"
      },
      "execution_count": null,
      "outputs": []
    }
  ]
}