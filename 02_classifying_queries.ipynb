{
  "nbformat": 4,
  "nbformat_minor": 0,
  "metadata": {
    "colab": {
      "provenance": []
    },
    "kernelspec": {
      "name": "python3",
      "display_name": "Python 3"
    },
    "language_info": {
      "name": "python"
    }
  },
  "cells": [
    {
      "cell_type": "markdown",
      "source": [
        "# setup"
      ],
      "metadata": {
        "id": "LykxaC9sbNKo"
      }
    },
    {
      "cell_type": "code",
      "source": [
        "!pip install openai tiktoken -q"
      ],
      "metadata": {
        "id": "dHLMShh3bR10"
      },
      "execution_count": 1,
      "outputs": []
    },
    {
      "cell_type": "code",
      "execution_count": 2,
      "metadata": {
        "id": "356UHG_abKKv"
      },
      "outputs": [],
      "source": [
        "import openai\n",
        "import tiktoken\n",
        "from google.colab import userdata\n",
        "\n",
        "api_key = userdata.get('OPENAI_API_KEY')\n",
        "\n",
        "client = openai.Client(api_key=api_key)"
      ]
    },
    {
      "cell_type": "markdown",
      "source": [
        "# helper function"
      ],
      "metadata": {
        "id": "gyevfXFnb3co"
      }
    },
    {
      "cell_type": "code",
      "source": [
        "def get_completion(prompt, model='gpt-3.5-turbo'):\n",
        "  messages = [{'role': 'user', 'content': prompt}]\n",
        "  response = client.chat.completions.create(\n",
        "      model=model,\n",
        "      messages=messages,\n",
        "      temperature=1\n",
        "  )\n",
        "\n",
        "  return response.choices[0].message.content"
      ],
      "metadata": {
        "id": "0p83RfSnbQoC"
      },
      "execution_count": 3,
      "outputs": []
    },
    {
      "cell_type": "markdown",
      "source": [
        "# helper function in chat format"
      ],
      "metadata": {
        "id": "RBtfFmt4eEZU"
      }
    },
    {
      "cell_type": "code",
      "source": [
        "def get_completion_from_messages(messages, model='gpt-3.5-turbo', temperature=0, max_tokens=500):\n",
        "  response = client.chat.completions.create(\n",
        "      model=model,\n",
        "      messages=messages,\n",
        "      temperature=temperature, # degree of randomness\n",
        "      max_tokens=max_tokens # max number of tokens that model can output\n",
        "  )\n",
        "\n",
        "  return response.choices[0].message.content"
      ],
      "metadata": {
        "id": "3rCDMk8od8px"
      },
      "execution_count": 7,
      "outputs": []
    },
    {
      "cell_type": "code",
      "source": [
        "delimiter = '####' # just 1 token long\n",
        "\n",
        "system_message = f'''\n",
        "you will be provided with customer service queries. \\\n",
        "the customer service query will be delimited with {delimiter} characters. \\\n",
        "\n",
        "classify each category into a primary category and secondary category.\n",
        "\n",
        "provide your outputs in json format keys: primary and secondary\n",
        "\n",
        "primary categories: Billing, Technical Support, Account Management and General Inquiry.\n",
        "\n",
        "Billing secondary categories:\n",
        "unsubscribe or upgrade\n",
        "add a payment method\n",
        "explanation for charge\n",
        "dispute a charge\n",
        "\n",
        "Technical Support secondary categories:\n",
        "General troubleshooting\n",
        "Device compatibility\n",
        "Software updates\n",
        "\n",
        "Account Management secondary categories:\n",
        "Password reset\n",
        "Update personal information\n",
        "Close account\n",
        "Account security\n",
        "\n",
        "General Inquiry secondary categories:\n",
        "Product information\n",
        "Pricing\n",
        "Feedback\n",
        "Speak to a human\n",
        "'''\n",
        "\n",
        "user_message = 'I want to upgrade my current internet connection plan'\n",
        "\n",
        "messages = [\n",
        "    dict(role='system', content=system_message),\n",
        "    dict(role='user', content=user_message)\n",
        "]\n",
        "\n",
        "print(get_completion_from_messages(messages))"
      ],
      "metadata": {
        "id": "Hg-7CtZzjoqY",
        "colab": {
          "base_uri": "https://localhost:8080/"
        },
        "outputId": "05a65185-bf99-4393-b2d7-877124734d4e"
      },
      "execution_count": 10,
      "outputs": [
        {
          "output_type": "stream",
          "name": "stdout",
          "text": [
            "{\n",
            "  \"primary\": \"Billing\",\n",
            "  \"secondary\": \"unsubscribe or upgrade\"\n",
            "}\n"
          ]
        }
      ]
    },
    {
      "cell_type": "code",
      "source": [],
      "metadata": {
        "id": "IrFPtNqQnBXl"
      },
      "execution_count": null,
      "outputs": []
    }
  ]
}